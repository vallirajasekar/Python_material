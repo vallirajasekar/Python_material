{
 "cells": [
  {
   "cell_type": "code",
   "execution_count": 1,
   "id": "ad2b64f8",
   "metadata": {},
   "outputs": [
    {
     "name": "stdout",
     "output_type": "stream",
     "text": [
      "Enter the NameSekar\n"
     ]
    }
   ],
   "source": [
    "name=input('Enter the Name')"
   ]
  },
  {
   "cell_type": "code",
   "execution_count": 2,
   "id": "a22053d0",
   "metadata": {},
   "outputs": [
    {
     "data": {
      "text/plain": [
       "'Sekar'"
      ]
     },
     "execution_count": 2,
     "metadata": {},
     "output_type": "execute_result"
    }
   ],
   "source": [
    "name"
   ]
  },
  {
   "cell_type": "code",
   "execution_count": 3,
   "id": "ac7f3bda",
   "metadata": {},
   "outputs": [
    {
     "name": "stdout",
     "output_type": "stream",
     "text": [
      "Enter your AGE12\n"
     ]
    }
   ],
   "source": [
    "age=int(input('Enter your AGE'))"
   ]
  },
  {
   "cell_type": "code",
   "execution_count": 4,
   "id": "1b970c14",
   "metadata": {},
   "outputs": [
    {
     "data": {
      "text/plain": [
       "int"
      ]
     },
     "execution_count": 4,
     "metadata": {},
     "output_type": "execute_result"
    }
   ],
   "source": [
    "type(age)"
   ]
  },
  {
   "cell_type": "code",
   "execution_count": 8,
   "id": "3c495857",
   "metadata": {},
   "outputs": [
    {
     "name": "stdout",
     "output_type": "stream",
     "text": [
      "Enter your Name,age,height,phone_no,email_idSekar,28,7.8,9600231572,sekarvalliraja@gmail.com\n"
     ]
    }
   ],
   "source": [
    "detail=input(\"Enter your Name,age,height,phone_no,email_id\").split(',')"
   ]
  },
  {
   "cell_type": "code",
   "execution_count": 11,
   "id": "97711be5",
   "metadata": {},
   "outputs": [
    {
     "data": {
      "text/plain": [
       "'sekarvalliraja@gmail.com'"
      ]
     },
     "execution_count": 11,
     "metadata": {},
     "output_type": "execute_result"
    }
   ],
   "source": [
    "detail[4]"
   ]
  },
  {
   "cell_type": "code",
   "execution_count": 12,
   "id": "c66ef4c6",
   "metadata": {},
   "outputs": [
    {
     "name": "stdout",
     "output_type": "stream",
     "text": [
      "Enter your Name,age,height,phone_no,email_idSekar,12,7,9600231572,sekarvalliraja@gmail.com\n"
     ]
    }
   ],
   "source": [
    "name,age,height,phone_no,email=input(\"Enter your Name,age,height,phone_no,email_id\").split(',')"
   ]
  },
  {
   "cell_type": "code",
   "execution_count": 13,
   "id": "e5acd4a6",
   "metadata": {},
   "outputs": [
    {
     "data": {
      "text/plain": [
       "'Sekar'"
      ]
     },
     "execution_count": 13,
     "metadata": {},
     "output_type": "execute_result"
    }
   ],
   "source": [
    "name"
   ]
  },
  {
   "cell_type": "code",
   "execution_count": 14,
   "id": "420ce1d6",
   "metadata": {},
   "outputs": [
    {
     "data": {
      "text/plain": [
       "'sekarvalliraja@gmail.com'"
      ]
     },
     "execution_count": 14,
     "metadata": {},
     "output_type": "execute_result"
    }
   ],
   "source": [
    "email"
   ]
  },
  {
   "cell_type": "code",
   "execution_count": 15,
   "id": "d06e33ae",
   "metadata": {},
   "outputs": [],
   "source": [
    "from getpass import getpass"
   ]
  },
  {
   "cell_type": "code",
   "execution_count": 16,
   "id": "da025431",
   "metadata": {},
   "outputs": [
    {
     "name": "stdout",
     "output_type": "stream",
     "text": [
      "Enter you Password········\n"
     ]
    },
    {
     "data": {
      "text/plain": [
       "'india '"
      ]
     },
     "execution_count": 16,
     "metadata": {},
     "output_type": "execute_result"
    }
   ],
   "source": [
    "getpass('Enter you Password')"
   ]
  },
  {
   "cell_type": "code",
   "execution_count": 18,
   "id": "15c18363",
   "metadata": {},
   "outputs": [
    {
     "name": "stdout",
     "output_type": "stream",
     "text": [
      "Enter your Name\n"
     ]
    },
    {
     "data": {
      "text/plain": [
       "'no name'"
      ]
     },
     "execution_count": 18,
     "metadata": {},
     "output_type": "execute_result"
    }
   ],
   "source": [
    "input('Enter your Name') or \"no name\""
   ]
  },
  {
   "cell_type": "code",
   "execution_count": 20,
   "id": "fc5222ea",
   "metadata": {},
   "outputs": [],
   "source": [
    "name,age,height,phone_no,email=\"Sekar\",\"Working\",\"As\",\"Data Scientist\",\"Bengaluru\""
   ]
  },
  {
   "cell_type": "code",
   "execution_count": 21,
   "id": "6672a453",
   "metadata": {},
   "outputs": [
    {
     "data": {
      "text/plain": [
       "'Bengaluru'"
      ]
     },
     "execution_count": 21,
     "metadata": {},
     "output_type": "execute_result"
    }
   ],
   "source": [
    "email"
   ]
  },
  {
   "cell_type": "code",
   "execution_count": null,
   "id": "c75dbfd6",
   "metadata": {},
   "outputs": [],
   "source": []
  }
 ],
 "metadata": {
  "kernelspec": {
   "display_name": "Python 3 (ipykernel)",
   "language": "python",
   "name": "python3"
  },
  "language_info": {
   "codemirror_mode": {
    "name": "ipython",
    "version": 3
   },
   "file_extension": ".py",
   "mimetype": "text/x-python",
   "name": "python",
   "nbconvert_exporter": "python",
   "pygments_lexer": "ipython3",
   "version": "3.9.7"
  }
 },
 "nbformat": 4,
 "nbformat_minor": 5
}

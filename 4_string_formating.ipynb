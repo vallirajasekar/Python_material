{
 "cells": [
  {
   "cell_type": "code",
   "execution_count": 1,
   "id": "78ef8d78",
   "metadata": {},
   "outputs": [],
   "source": [
    "name='Sekar'\n",
    "text='Hello Sekar'"
   ]
  },
  {
   "cell_type": "code",
   "execution_count": 2,
   "id": "35775d19",
   "metadata": {},
   "outputs": [],
   "source": [
    "name='Sekar'\n",
    "text='Hello %s'%name"
   ]
  },
  {
   "cell_type": "code",
   "execution_count": 3,
   "id": "a7654bee",
   "metadata": {},
   "outputs": [
    {
     "data": {
      "text/plain": [
       "'Hello Sekar'"
      ]
     },
     "execution_count": 3,
     "metadata": {},
     "output_type": "execute_result"
    }
   ],
   "source": [
    "text"
   ]
  },
  {
   "cell_type": "code",
   "execution_count": 5,
   "id": "d1641069",
   "metadata": {},
   "outputs": [],
   "source": [
    "name='Sekar'\n",
    "text='Hello %s'%name"
   ]
  },
  {
   "cell_type": "code",
   "execution_count": 12,
   "id": "3b2f2a1a",
   "metadata": {},
   "outputs": [
    {
     "name": "stdout",
     "output_type": "stream",
     "text": [
      "Enter Your NumberBharath\n"
     ]
    }
   ],
   "source": [
    "name1=input('Enter Your Number')\n",
    "text1=\"hello %s\"%name1"
   ]
  },
  {
   "cell_type": "code",
   "execution_count": 13,
   "id": "853acaa4",
   "metadata": {},
   "outputs": [
    {
     "data": {
      "text/plain": [
       "'hello Bharath'"
      ]
     },
     "execution_count": 13,
     "metadata": {},
     "output_type": "execute_result"
    }
   ],
   "source": [
    "text1"
   ]
  },
  {
   "cell_type": "code",
   "execution_count": 9,
   "id": "5a6ee5d3",
   "metadata": {},
   "outputs": [
    {
     "data": {
      "text/plain": [
       "'hello Sekar'"
      ]
     },
     "execution_count": 9,
     "metadata": {},
     "output_type": "execute_result"
    }
   ],
   "source": [
    "text"
   ]
  },
  {
   "cell_type": "code",
   "execution_count": 15,
   "id": "7e3a59fb",
   "metadata": {},
   "outputs": [
    {
     "name": "stdout",
     "output_type": "stream",
     "text": [
      "Enter your age32\n"
     ]
    }
   ],
   "source": [
    "height=float(input('Enter your age'))\n",
    "text=\"hello %.4f\"%height"
   ]
  },
  {
   "cell_type": "code",
   "execution_count": 16,
   "id": "5ca0f6ad",
   "metadata": {},
   "outputs": [
    {
     "data": {
      "text/plain": [
       "'hello 32.0000'"
      ]
     },
     "execution_count": 16,
     "metadata": {},
     "output_type": "execute_result"
    }
   ],
   "source": [
    "text"
   ]
  },
  {
   "cell_type": "code",
   "execution_count": 17,
   "id": "5c6c18c2",
   "metadata": {},
   "outputs": [
    {
     "name": "stdout",
     "output_type": "stream",
     "text": [
      "Enter your age29\n"
     ]
    }
   ],
   "source": [
    "height=float(input('Enter your age'))\n",
    "text=\"hello %.2f\"%height"
   ]
  },
  {
   "cell_type": "code",
   "execution_count": 18,
   "id": "91aa6a89",
   "metadata": {},
   "outputs": [
    {
     "data": {
      "text/plain": [
       "'hello 29.00'"
      ]
     },
     "execution_count": 18,
     "metadata": {},
     "output_type": "execute_result"
    }
   ],
   "source": [
    "text"
   ]
  },
  {
   "cell_type": "code",
   "execution_count": 19,
   "id": "7be574e9",
   "metadata": {},
   "outputs": [],
   "source": [
    "name=\"Sekar\"\n",
    "age=30\n",
    "text=\"%s is %d year old\"%(name,age)"
   ]
  },
  {
   "cell_type": "code",
   "execution_count": 20,
   "id": "bfb8eabf",
   "metadata": {},
   "outputs": [
    {
     "data": {
      "text/plain": [
       "'Sekar is 30 year old'"
      ]
     },
     "execution_count": 20,
     "metadata": {},
     "output_type": "execute_result"
    }
   ],
   "source": [
    "text"
   ]
  },
  {
   "cell_type": "code",
   "execution_count": 21,
   "id": "7ba50a9c",
   "metadata": {},
   "outputs": [],
   "source": [
    "name=\"Sekar\"\n",
    "age=30\n",
    "text=\"hello %s %d year old\"%(name,age)"
   ]
  },
  {
   "cell_type": "code",
   "execution_count": 22,
   "id": "938803c1",
   "metadata": {},
   "outputs": [
    {
     "data": {
      "text/plain": [
       "'hello Sekar 30 year old'"
      ]
     },
     "execution_count": 22,
     "metadata": {},
     "output_type": "execute_result"
    }
   ],
   "source": [
    "text"
   ]
  },
  {
   "cell_type": "code",
   "execution_count": 23,
   "id": "d153e678",
   "metadata": {},
   "outputs": [],
   "source": [
    "name=\"Sekar\"\n",
    "age=30\n",
    "text=\"{} is {} year old\".format(name,age)"
   ]
  },
  {
   "cell_type": "code",
   "execution_count": 24,
   "id": "7199bad0",
   "metadata": {},
   "outputs": [
    {
     "data": {
      "text/plain": [
       "'Sekar is 30 year old'"
      ]
     },
     "execution_count": 24,
     "metadata": {},
     "output_type": "execute_result"
    }
   ],
   "source": [
    "text"
   ]
  },
  {
   "cell_type": "code",
   "execution_count": 26,
   "id": "6bfebaa9",
   "metadata": {},
   "outputs": [],
   "source": [
    "name=\"Sekar\"\n",
    "age=30\n",
    "text=\"{name} is {age} year old\".format(name=name,age=age)"
   ]
  },
  {
   "cell_type": "code",
   "execution_count": 27,
   "id": "7d0f31cc",
   "metadata": {},
   "outputs": [
    {
     "data": {
      "text/plain": [
       "'Sekar is 30 year old'"
      ]
     },
     "execution_count": 27,
     "metadata": {},
     "output_type": "execute_result"
    }
   ],
   "source": [
    "text"
   ]
  },
  {
   "cell_type": "code",
   "execution_count": null,
   "id": "c2503dbb",
   "metadata": {},
   "outputs": [],
   "source": [
    "height=3456.78999000\n",
    "text=\"My height is {:}\""
   ]
  }
 ],
 "metadata": {
  "kernelspec": {
   "display_name": "Python 3 (ipykernel)",
   "language": "python",
   "name": "python3"
  },
  "language_info": {
   "codemirror_mode": {
    "name": "ipython",
    "version": 3
   },
   "file_extension": ".py",
   "mimetype": "text/x-python",
   "name": "python",
   "nbconvert_exporter": "python",
   "pygments_lexer": "ipython3",
   "version": "3.9.7"
  }
 },
 "nbformat": 4,
 "nbformat_minor": 5
}

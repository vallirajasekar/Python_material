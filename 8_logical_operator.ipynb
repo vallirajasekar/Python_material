{
 "cells": [
  {
   "cell_type": "code",
   "execution_count": 1,
   "id": "2944979b",
   "metadata": {},
   "outputs": [
    {
     "data": {
      "text/plain": [
       "True"
      ]
     },
     "execution_count": 1,
     "metadata": {},
     "output_type": "execute_result"
    }
   ],
   "source": [
    "a=5\n",
    "b=10\n",
    "a>0"
   ]
  },
  {
   "cell_type": "code",
   "execution_count": 2,
   "id": "f79d90b4",
   "metadata": {},
   "outputs": [
    {
     "data": {
      "text/plain": [
       "True"
      ]
     },
     "execution_count": 2,
     "metadata": {},
     "output_type": "execute_result"
    }
   ],
   "source": [
    "b>0"
   ]
  },
  {
   "cell_type": "code",
   "execution_count": 5,
   "id": "e342409c",
   "metadata": {},
   "outputs": [
    {
     "data": {
      "text/plain": [
       "True"
      ]
     },
     "execution_count": 5,
     "metadata": {},
     "output_type": "execute_result"
    }
   ],
   "source": [
    "a=5\n",
    "b=10\n",
    "c=15\n",
    "(a>0 and b>0) or c>10"
   ]
  },
  {
   "cell_type": "code",
   "execution_count": 7,
   "id": "7c9e0d1b",
   "metadata": {},
   "outputs": [
    {
     "data": {
      "text/plain": [
       "False"
      ]
     },
     "execution_count": 7,
     "metadata": {},
     "output_type": "execute_result"
    }
   ],
   "source": [
    "(a>0 and b>11) and c>10"
   ]
  },
  {
   "cell_type": "code",
   "execution_count": 8,
   "id": "8cfcb00d",
   "metadata": {},
   "outputs": [
    {
     "data": {
      "text/plain": [
       "True"
      ]
     },
     "execution_count": 8,
     "metadata": {},
     "output_type": "execute_result"
    }
   ],
   "source": [
    "(a>0 and b>11) or c>10"
   ]
  },
  {
   "cell_type": "code",
   "execution_count": 9,
   "id": "1d56137d",
   "metadata": {},
   "outputs": [
    {
     "data": {
      "text/plain": [
       "True"
      ]
     },
     "execution_count": 9,
     "metadata": {},
     "output_type": "execute_result"
    }
   ],
   "source": [
    "x=True\n",
    "y=False\n",
    "x and (y:=True)"
   ]
  },
  {
   "cell_type": "code",
   "execution_count": 10,
   "id": "7ce8f43d",
   "metadata": {},
   "outputs": [
    {
     "data": {
      "text/plain": [
       "False"
      ]
     },
     "execution_count": 10,
     "metadata": {},
     "output_type": "execute_result"
    }
   ],
   "source": [
    "x=True\n",
    "y=False\n",
    "x and (y:=False)"
   ]
  },
  {
   "cell_type": "code",
   "execution_count": null,
   "id": "2dedc05c",
   "metadata": {},
   "outputs": [],
   "source": []
  }
 ],
 "metadata": {
  "kernelspec": {
   "display_name": "Python 3 (ipykernel)",
   "language": "python",
   "name": "python3"
  },
  "language_info": {
   "codemirror_mode": {
    "name": "ipython",
    "version": 3
   },
   "file_extension": ".py",
   "mimetype": "text/x-python",
   "name": "python",
   "nbconvert_exporter": "python",
   "pygments_lexer": "ipython3",
   "version": "3.9.7"
  }
 },
 "nbformat": 4,
 "nbformat_minor": 5
}

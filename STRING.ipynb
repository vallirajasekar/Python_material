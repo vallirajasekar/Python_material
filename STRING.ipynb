{
 "cells": [
  {
   "cell_type": "code",
   "execution_count": 3,
   "id": "ce3d1b45",
   "metadata": {},
   "outputs": [],
   "source": [
    "s='sekar'"
   ]
  },
  {
   "cell_type": "code",
   "execution_count": 8,
   "id": "be10d04e",
   "metadata": {},
   "outputs": [
    {
     "data": {
      "text/plain": [
       "'sekar'"
      ]
     },
     "execution_count": 8,
     "metadata": {},
     "output_type": "execute_result"
    }
   ],
   "source": [
    "s"
   ]
  },
  {
   "cell_type": "code",
   "execution_count": 4,
   "id": "3348f9e3",
   "metadata": {},
   "outputs": [],
   "source": [
    "s1='sekar'"
   ]
  },
  {
   "cell_type": "code",
   "execution_count": 7,
   "id": "f9c3cd11",
   "metadata": {},
   "outputs": [
    {
     "data": {
      "text/plain": [
       "'sekar'"
      ]
     },
     "execution_count": 7,
     "metadata": {},
     "output_type": "execute_result"
    }
   ],
   "source": [
    "s1"
   ]
  },
  {
   "cell_type": "code",
   "execution_count": 5,
   "id": "7b2d3e6e",
   "metadata": {},
   "outputs": [],
   "source": [
    "s2='''sekar'''"
   ]
  },
  {
   "cell_type": "code",
   "execution_count": 6,
   "id": "1a590f4a",
   "metadata": {},
   "outputs": [
    {
     "data": {
      "text/plain": [
       "'sekar'"
      ]
     },
     "execution_count": 6,
     "metadata": {},
     "output_type": "execute_result"
    }
   ],
   "source": [
    "s2"
   ]
  },
  {
   "cell_type": "code",
   "execution_count": 9,
   "id": "5effe79c",
   "metadata": {},
   "outputs": [],
   "source": [
    "s3=\"\"\"sekar\"\"\""
   ]
  },
  {
   "cell_type": "code",
   "execution_count": 11,
   "id": "edb2c40e",
   "metadata": {},
   "outputs": [
    {
     "data": {
      "text/plain": [
       "'sekar'"
      ]
     },
     "execution_count": 11,
     "metadata": {},
     "output_type": "execute_result"
    }
   ],
   "source": [
    "s3"
   ]
  },
  {
   "cell_type": "code",
   "execution_count": 12,
   "id": "6b941913",
   "metadata": {},
   "outputs": [],
   "source": [
    "s4=\"how's your health\""
   ]
  },
  {
   "cell_type": "code",
   "execution_count": 13,
   "id": "57feb9c6",
   "metadata": {},
   "outputs": [
    {
     "data": {
      "text/plain": [
       "\"how's your health\""
      ]
     },
     "execution_count": 13,
     "metadata": {},
     "output_type": "execute_result"
    }
   ],
   "source": [
    "s4"
   ]
  },
  {
   "cell_type": "code",
   "execution_count": 14,
   "id": "8be9017f",
   "metadata": {},
   "outputs": [
    {
     "data": {
      "text/plain": [
       "'sekar'"
      ]
     },
     "execution_count": 14,
     "metadata": {},
     "output_type": "execute_result"
    }
   ],
   "source": [
    "s1"
   ]
  },
  {
   "cell_type": "code",
   "execution_count": 15,
   "id": "10a394d2",
   "metadata": {},
   "outputs": [
    {
     "name": "stdout",
     "output_type": "stream",
     "text": [
      "sekar\n"
     ]
    }
   ],
   "source": [
    "print(s1)"
   ]
  },
  {
   "cell_type": "code",
   "execution_count": 16,
   "id": "0ecd03c2",
   "metadata": {},
   "outputs": [
    {
     "data": {
      "text/plain": [
       "str"
      ]
     },
     "execution_count": 16,
     "metadata": {},
     "output_type": "execute_result"
    }
   ],
   "source": [
    "type(s1)"
   ]
  },
  {
   "cell_type": "code",
   "execution_count": 17,
   "id": "aaae0430",
   "metadata": {},
   "outputs": [
    {
     "data": {
      "text/plain": [
       "5"
      ]
     },
     "execution_count": 17,
     "metadata": {},
     "output_type": "execute_result"
    }
   ],
   "source": [
    "len(s1)"
   ]
  },
  {
   "cell_type": "code",
   "execution_count": 18,
   "id": "9bd5b4b1",
   "metadata": {},
   "outputs": [],
   "source": [
    "s8='sudhanshu'"
   ]
  },
  {
   "cell_type": "code",
   "execution_count": 19,
   "id": "ca277efc",
   "metadata": {},
   "outputs": [
    {
     "data": {
      "text/plain": [
       "'s'"
      ]
     },
     "execution_count": 19,
     "metadata": {},
     "output_type": "execute_result"
    }
   ],
   "source": [
    "s8[0]"
   ]
  },
  {
   "cell_type": "code",
   "execution_count": 20,
   "id": "a5532d8a",
   "metadata": {},
   "outputs": [
    {
     "data": {
      "text/plain": [
       "'sudhanshu'"
      ]
     },
     "execution_count": 20,
     "metadata": {},
     "output_type": "execute_result"
    }
   ],
   "source": [
    "s8"
   ]
  },
  {
   "cell_type": "code",
   "execution_count": 21,
   "id": "39edb30a",
   "metadata": {},
   "outputs": [
    {
     "data": {
      "text/plain": [
       "'sudh'"
      ]
     },
     "execution_count": 21,
     "metadata": {},
     "output_type": "execute_result"
    }
   ],
   "source": [
    "s8[:4]"
   ]
  },
  {
   "cell_type": "code",
   "execution_count": 22,
   "id": "a4ebac55",
   "metadata": {},
   "outputs": [
    {
     "data": {
      "text/plain": [
       "'dha'"
      ]
     },
     "execution_count": 22,
     "metadata": {},
     "output_type": "execute_result"
    }
   ],
   "source": [
    "s8[2:5]"
   ]
  },
  {
   "cell_type": "code",
   "execution_count": 23,
   "id": "29475899",
   "metadata": {},
   "outputs": [
    {
     "data": {
      "text/plain": [
       "'dhan'"
      ]
     },
     "execution_count": 23,
     "metadata": {},
     "output_type": "execute_result"
    }
   ],
   "source": [
    "s8[2:6]"
   ]
  },
  {
   "cell_type": "code",
   "execution_count": 24,
   "id": "6061c1ba",
   "metadata": {},
   "outputs": [
    {
     "data": {
      "text/plain": [
       "'sudhanshu'"
      ]
     },
     "execution_count": 24,
     "metadata": {},
     "output_type": "execute_result"
    }
   ],
   "source": [
    "s8"
   ]
  },
  {
   "cell_type": "code",
   "execution_count": 25,
   "id": "af7075a5",
   "metadata": {},
   "outputs": [
    {
     "data": {
      "text/plain": [
       "'dh'"
      ]
     },
     "execution_count": 25,
     "metadata": {},
     "output_type": "execute_result"
    }
   ],
   "source": [
    "s8[2:4:1]"
   ]
  },
  {
   "cell_type": "code",
   "execution_count": 28,
   "id": "82cffab3",
   "metadata": {},
   "outputs": [
    {
     "data": {
      "text/plain": [
       "'s'"
      ]
     },
     "execution_count": 28,
     "metadata": {},
     "output_type": "execute_result"
    }
   ],
   "source": [
    "s8[:2:2]"
   ]
  },
  {
   "cell_type": "code",
   "execution_count": 29,
   "id": "3125cce2",
   "metadata": {},
   "outputs": [],
   "source": [
    "a='sekar'"
   ]
  },
  {
   "cell_type": "code",
   "execution_count": 30,
   "id": "1774525f",
   "metadata": {},
   "outputs": [
    {
     "data": {
      "text/plain": [
       "'skr'"
      ]
     },
     "execution_count": 30,
     "metadata": {},
     "output_type": "execute_result"
    }
   ],
   "source": [
    "a[0:5:2]"
   ]
  },
  {
   "cell_type": "code",
   "execution_count": 31,
   "id": "c840f5cd",
   "metadata": {},
   "outputs": [],
   "source": [
    "a='Sekar is good Boy'"
   ]
  },
  {
   "cell_type": "code",
   "execution_count": 36,
   "id": "298ddb5b",
   "metadata": {},
   "outputs": [
    {
     "data": {
      "text/plain": [
       "'Saigdo'"
      ]
     },
     "execution_count": 36,
     "metadata": {},
     "output_type": "execute_result"
    }
   ],
   "source": [
    "a[0:24:3]"
   ]
  },
  {
   "cell_type": "code",
   "execution_count": 33,
   "id": "1afb834c",
   "metadata": {},
   "outputs": [
    {
     "data": {
      "text/plain": [
       "'Saigdo'"
      ]
     },
     "execution_count": 33,
     "metadata": {},
     "output_type": "execute_result"
    }
   ],
   "source": [
    "a[::3]"
   ]
  },
  {
   "cell_type": "code",
   "execution_count": 34,
   "id": "4729fda1",
   "metadata": {},
   "outputs": [
    {
     "data": {
      "text/plain": [
       "'sekar'"
      ]
     },
     "execution_count": 34,
     "metadata": {},
     "output_type": "execute_result"
    }
   ],
   "source": [
    "s"
   ]
  },
  {
   "cell_type": "code",
   "execution_count": 35,
   "id": "40ce4ff8",
   "metadata": {},
   "outputs": [
    {
     "data": {
      "text/plain": [
       "'sa'"
      ]
     },
     "execution_count": 35,
     "metadata": {},
     "output_type": "execute_result"
    }
   ],
   "source": [
    "s[::3]"
   ]
  },
  {
   "cell_type": "code",
   "execution_count": 37,
   "id": "df6f9c6e",
   "metadata": {},
   "outputs": [
    {
     "data": {
      "text/plain": [
       "'Saigdo'"
      ]
     },
     "execution_count": 37,
     "metadata": {},
     "output_type": "execute_result"
    }
   ],
   "source": [
    "a[::3]"
   ]
  },
  {
   "cell_type": "code",
   "execution_count": 38,
   "id": "d69f6df2",
   "metadata": {},
   "outputs": [
    {
     "data": {
      "text/plain": [
       "'Sekar is good Boy'"
      ]
     },
     "execution_count": 38,
     "metadata": {},
     "output_type": "execute_result"
    }
   ],
   "source": [
    "a[::]"
   ]
  },
  {
   "cell_type": "code",
   "execution_count": 39,
   "id": "9b1fc070",
   "metadata": {},
   "outputs": [
    {
     "data": {
      "text/plain": [
       "'yoB doog si rakeS'"
      ]
     },
     "execution_count": 39,
     "metadata": {},
     "output_type": "execute_result"
    }
   ],
   "source": [
    "a[::-1]"
   ]
  },
  {
   "cell_type": "code",
   "execution_count": 40,
   "id": "8ba86547",
   "metadata": {},
   "outputs": [
    {
     "data": {
      "text/plain": [
       "'sekar'"
      ]
     },
     "execution_count": 40,
     "metadata": {},
     "output_type": "execute_result"
    }
   ],
   "source": [
    "s"
   ]
  },
  {
   "cell_type": "code",
   "execution_count": 41,
   "id": "605d4590",
   "metadata": {},
   "outputs": [
    {
     "data": {
      "text/plain": [
       "'rakes'"
      ]
     },
     "execution_count": 41,
     "metadata": {},
     "output_type": "execute_result"
    }
   ],
   "source": [
    "s[::-1]"
   ]
  },
  {
   "cell_type": "code",
   "execution_count": 42,
   "id": "e4ded207",
   "metadata": {},
   "outputs": [
    {
     "data": {
      "text/plain": [
       "''"
      ]
     },
     "execution_count": 42,
     "metadata": {},
     "output_type": "execute_result"
    }
   ],
   "source": [
    "s[:5:-1]"
   ]
  },
  {
   "cell_type": "code",
   "execution_count": 43,
   "id": "8c04b2a4",
   "metadata": {},
   "outputs": [
    {
     "data": {
      "text/plain": [
       "'rakes'"
      ]
     },
     "execution_count": 43,
     "metadata": {},
     "output_type": "execute_result"
    }
   ],
   "source": [
    "s[5::-1]"
   ]
  },
  {
   "cell_type": "code",
   "execution_count": 44,
   "id": "52e09366",
   "metadata": {},
   "outputs": [
    {
     "data": {
      "text/plain": [
       "'rakes'"
      ]
     },
     "execution_count": 44,
     "metadata": {},
     "output_type": "execute_result"
    }
   ],
   "source": [
    "s[-1:-1000:-1]"
   ]
  },
  {
   "cell_type": "code",
   "execution_count": 45,
   "id": "49685ba1",
   "metadata": {},
   "outputs": [
    {
     "data": {
      "text/plain": [
       "''"
      ]
     },
     "execution_count": 45,
     "metadata": {},
     "output_type": "execute_result"
    }
   ],
   "source": [
    "s[-1000:-1:-1]"
   ]
  },
  {
   "cell_type": "code",
   "execution_count": 46,
   "id": "66c2490d",
   "metadata": {},
   "outputs": [
    {
     "data": {
      "text/plain": [
       "'sekar'"
      ]
     },
     "execution_count": 46,
     "metadata": {},
     "output_type": "execute_result"
    }
   ],
   "source": [
    "s"
   ]
  },
  {
   "cell_type": "code",
   "execution_count": 47,
   "id": "22502f37",
   "metadata": {},
   "outputs": [
    {
     "data": {
      "text/plain": [
       "'SEKAR'"
      ]
     },
     "execution_count": 47,
     "metadata": {},
     "output_type": "execute_result"
    }
   ],
   "source": [
    "s.upper()"
   ]
  },
  {
   "cell_type": "code",
   "execution_count": 48,
   "id": "09f282d0",
   "metadata": {},
   "outputs": [
    {
     "data": {
      "text/plain": [
       "'sekar'"
      ]
     },
     "execution_count": 48,
     "metadata": {},
     "output_type": "execute_result"
    }
   ],
   "source": [
    "s.lower()"
   ]
  },
  {
   "cell_type": "code",
   "execution_count": 49,
   "id": "ed673613",
   "metadata": {},
   "outputs": [
    {
     "data": {
      "text/plain": [
       "'Sekar'"
      ]
     },
     "execution_count": 49,
     "metadata": {},
     "output_type": "execute_result"
    }
   ],
   "source": [
    "s.capitalize()"
   ]
  },
  {
   "cell_type": "code",
   "execution_count": 50,
   "id": "4009024f",
   "metadata": {},
   "outputs": [
    {
     "data": {
      "text/plain": [
       "'Sekar'"
      ]
     },
     "execution_count": 50,
     "metadata": {},
     "output_type": "execute_result"
    }
   ],
   "source": [
    "s.title(\n",
    ")"
   ]
  },
  {
   "cell_type": "code",
   "execution_count": 51,
   "id": "56825c1a",
   "metadata": {},
   "outputs": [],
   "source": [
    "s11='''       sekar   '''"
   ]
  },
  {
   "cell_type": "code",
   "execution_count": 52,
   "id": "5d1b408f",
   "metadata": {},
   "outputs": [
    {
     "data": {
      "text/plain": [
       "'sekar'"
      ]
     },
     "execution_count": 52,
     "metadata": {},
     "output_type": "execute_result"
    }
   ],
   "source": [
    "s11.strip()"
   ]
  },
  {
   "cell_type": "code",
   "execution_count": 53,
   "id": "3ab2db62",
   "metadata": {},
   "outputs": [
    {
     "data": {
      "text/plain": [
       "'sekar   '"
      ]
     },
     "execution_count": 53,
     "metadata": {},
     "output_type": "execute_result"
    }
   ],
   "source": [
    "s11.lstrip()"
   ]
  },
  {
   "cell_type": "code",
   "execution_count": 54,
   "id": "cedaf688",
   "metadata": {},
   "outputs": [
    {
     "data": {
      "text/plain": [
       "'       sekar'"
      ]
     },
     "execution_count": 54,
     "metadata": {},
     "output_type": "execute_result"
    }
   ],
   "source": [
    "s11.rstrip()"
   ]
  },
  {
   "cell_type": "code",
   "execution_count": 55,
   "id": "cbc2c4a8",
   "metadata": {},
   "outputs": [
    {
     "data": {
      "text/plain": [
       "True"
      ]
     },
     "execution_count": 55,
     "metadata": {},
     "output_type": "execute_result"
    }
   ],
   "source": [
    "s.startswith('s')"
   ]
  },
  {
   "cell_type": "code",
   "execution_count": 56,
   "id": "c75ae6da",
   "metadata": {},
   "outputs": [
    {
     "data": {
      "text/plain": [
       "True"
      ]
     },
     "execution_count": 56,
     "metadata": {},
     "output_type": "execute_result"
    }
   ],
   "source": [
    "s.endswith('r')"
   ]
  },
  {
   "cell_type": "code",
   "execution_count": 59,
   "id": "e0f1d086",
   "metadata": {},
   "outputs": [
    {
     "data": {
      "text/plain": [
       "0"
      ]
     },
     "execution_count": 59,
     "metadata": {},
     "output_type": "execute_result"
    }
   ],
   "source": [
    "s11.find(' ')"
   ]
  },
  {
   "cell_type": "code",
   "execution_count": 61,
   "id": "b35654a0",
   "metadata": {},
   "outputs": [
    {
     "data": {
      "text/plain": [
       "-1"
      ]
     },
     "execution_count": 61,
     "metadata": {},
     "output_type": "execute_result"
    }
   ],
   "source": [
    "s.find('rek')"
   ]
  },
  {
   "cell_type": "code",
   "execution_count": 62,
   "id": "76136124",
   "metadata": {},
   "outputs": [
    {
     "data": {
      "text/plain": [
       "4"
      ]
     },
     "execution_count": 62,
     "metadata": {},
     "output_type": "execute_result"
    }
   ],
   "source": [
    "s.find('r')"
   ]
  },
  {
   "cell_type": "code",
   "execution_count": 63,
   "id": "e14a7055",
   "metadata": {},
   "outputs": [
    {
     "data": {
      "text/plain": [
       "'sekas'"
      ]
     },
     "execution_count": 63,
     "metadata": {},
     "output_type": "execute_result"
    }
   ],
   "source": [
    "s.replace('r','s')"
   ]
  },
  {
   "cell_type": "code",
   "execution_count": 64,
   "id": "85927b29",
   "metadata": {},
   "outputs": [
    {
     "data": {
      "text/plain": [
       "['sekar']"
      ]
     },
     "execution_count": 64,
     "metadata": {},
     "output_type": "execute_result"
    }
   ],
   "source": [
    "s.split(',')"
   ]
  },
  {
   "cell_type": "code",
   "execution_count": 65,
   "id": "2fb40677",
   "metadata": {},
   "outputs": [
    {
     "data": {
      "text/plain": [
       "'sekar'"
      ]
     },
     "execution_count": 65,
     "metadata": {},
     "output_type": "execute_result"
    }
   ],
   "source": [
    "s"
   ]
  },
  {
   "cell_type": "code",
   "execution_count": 68,
   "id": "7787d659",
   "metadata": {},
   "outputs": [],
   "source": [
    "c=\"sekar\""
   ]
  },
  {
   "cell_type": "code",
   "execution_count": 69,
   "id": "81e87b78",
   "metadata": {},
   "outputs": [
    {
     "data": {
      "text/plain": [
       "['sekar']"
      ]
     },
     "execution_count": 69,
     "metadata": {},
     "output_type": "execute_result"
    }
   ],
   "source": [
    "c.split(',')"
   ]
  },
  {
   "cell_type": "code",
   "execution_count": 70,
   "id": "bc2d4458",
   "metadata": {},
   "outputs": [
    {
     "data": {
      "text/plain": [
       "['s', 'u', 'd', 'h']"
      ]
     },
     "execution_count": 70,
     "metadata": {},
     "output_type": "execute_result"
    }
   ],
   "source": [
    "'s#u#d#h'.split('#')"
   ]
  },
  {
   "cell_type": "code",
   "execution_count": 71,
   "id": "378d576a",
   "metadata": {},
   "outputs": [
    {
     "data": {
      "text/plain": [
       "'s$e$k$a$r'"
      ]
     },
     "execution_count": 71,
     "metadata": {},
     "output_type": "execute_result"
    }
   ],
   "source": [
    "'$'.join('sekar')"
   ]
  },
  {
   "cell_type": "code",
   "execution_count": 72,
   "id": "e17188ae",
   "metadata": {},
   "outputs": [
    {
     "data": {
      "text/plain": [
       "1"
      ]
     },
     "execution_count": 72,
     "metadata": {},
     "output_type": "execute_result"
    }
   ],
   "source": [
    "s.count('r')"
   ]
  },
  {
   "cell_type": "code",
   "execution_count": 74,
   "id": "b211af97",
   "metadata": {},
   "outputs": [
    {
     "data": {
      "text/plain": [
       "'*******sekar********'"
      ]
     },
     "execution_count": 74,
     "metadata": {},
     "output_type": "execute_result"
    }
   ],
   "source": [
    "s.center(20,'*')"
   ]
  },
  {
   "cell_type": "code",
   "execution_count": null,
   "id": "978abe31",
   "metadata": {},
   "outputs": [],
   "source": []
  }
 ],
 "metadata": {
  "kernelspec": {
   "display_name": "Python 3 (ipykernel)",
   "language": "python",
   "name": "python3"
  },
  "language_info": {
   "codemirror_mode": {
    "name": "ipython",
    "version": 3
   },
   "file_extension": ".py",
   "mimetype": "text/x-python",
   "name": "python",
   "nbconvert_exporter": "python",
   "pygments_lexer": "ipython3",
   "version": "3.9.7"
  }
 },
 "nbformat": 4,
 "nbformat_minor": 5
}

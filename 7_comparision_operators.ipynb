{
 "cells": [
  {
   "cell_type": "code",
   "execution_count": 1,
   "id": "7bc3df1e",
   "metadata": {},
   "outputs": [],
   "source": [
    "a=13\n",
    "b=10"
   ]
  },
  {
   "cell_type": "code",
   "execution_count": 2,
   "id": "bb30b110",
   "metadata": {},
   "outputs": [
    {
     "data": {
      "text/plain": [
       "False"
      ]
     },
     "execution_count": 2,
     "metadata": {},
     "output_type": "execute_result"
    }
   ],
   "source": [
    "a==b"
   ]
  },
  {
   "cell_type": "code",
   "execution_count": 3,
   "id": "4b0863a2",
   "metadata": {},
   "outputs": [
    {
     "data": {
      "text/plain": [
       "False"
      ]
     },
     "execution_count": 3,
     "metadata": {},
     "output_type": "execute_result"
    }
   ],
   "source": [
    "'Sekar'=='Valli'"
   ]
  },
  {
   "cell_type": "code",
   "execution_count": 4,
   "id": "fbdb78c8",
   "metadata": {},
   "outputs": [
    {
     "data": {
      "text/plain": [
       "True"
      ]
     },
     "execution_count": 4,
     "metadata": {},
     "output_type": "execute_result"
    }
   ],
   "source": [
    "'Sekar'=='Sekar'"
   ]
  },
  {
   "cell_type": "code",
   "execution_count": 5,
   "id": "7a9bc135",
   "metadata": {},
   "outputs": [
    {
     "data": {
      "text/plain": [
       "True"
      ]
     },
     "execution_count": 5,
     "metadata": {},
     "output_type": "execute_result"
    }
   ],
   "source": [
    "a!=b"
   ]
  },
  {
   "cell_type": "code",
   "execution_count": 6,
   "id": "0e12e4a7",
   "metadata": {},
   "outputs": [
    {
     "data": {
      "text/plain": [
       "True"
      ]
     },
     "execution_count": 6,
     "metadata": {},
     "output_type": "execute_result"
    }
   ],
   "source": [
    "a>b"
   ]
  },
  {
   "cell_type": "code",
   "execution_count": 7,
   "id": "8ced5d38",
   "metadata": {},
   "outputs": [
    {
     "data": {
      "text/plain": [
       "False"
      ]
     },
     "execution_count": 7,
     "metadata": {},
     "output_type": "execute_result"
    }
   ],
   "source": [
    "'Sekar'>'Valli'"
   ]
  },
  {
   "cell_type": "code",
   "execution_count": 8,
   "id": "c61d0eee",
   "metadata": {},
   "outputs": [
    {
     "data": {
      "text/plain": [
       "True"
      ]
     },
     "execution_count": 8,
     "metadata": {},
     "output_type": "execute_result"
    }
   ],
   "source": [
    "'Sekar'<'Valli'"
   ]
  },
  {
   "cell_type": "code",
   "execution_count": 10,
   "id": "1b285104",
   "metadata": {},
   "outputs": [
    {
     "name": "stdout",
     "output_type": "stream",
     "text": [
      "83\n",
      "86\n"
     ]
    }
   ],
   "source": [
    "print(ord('S'))  # Output: 83\n",
    "print(ord('V'))  # Output: 86"
   ]
  },
  {
   "cell_type": "code",
   "execution_count": 12,
   "id": "78fa8163",
   "metadata": {},
   "outputs": [
    {
     "data": {
      "text/plain": [
       "False"
      ]
     },
     "execution_count": 12,
     "metadata": {},
     "output_type": "execute_result"
    }
   ],
   "source": [
    "10>10"
   ]
  },
  {
   "cell_type": "code",
   "execution_count": null,
   "id": "51fa9749",
   "metadata": {},
   "outputs": [],
   "source": []
  }
 ],
 "metadata": {
  "kernelspec": {
   "display_name": "Python 3 (ipykernel)",
   "language": "python",
   "name": "python3"
  },
  "language_info": {
   "codemirror_mode": {
    "name": "ipython",
    "version": 3
   },
   "file_extension": ".py",
   "mimetype": "text/x-python",
   "name": "python",
   "nbconvert_exporter": "python",
   "pygments_lexer": "ipython3",
   "version": "3.9.7"
  }
 },
 "nbformat": 4,
 "nbformat_minor": 5
}
